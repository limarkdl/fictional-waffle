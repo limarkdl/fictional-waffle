{
 "cells":[
  {
   "cell_type":"code",
   "source":[
    "print(\"123\")\n",
    "\n",
    "# test print layout"
   ],
   "execution_count":12223231,
   "outputs":[
    {
     "name":"stdout",
     "text":[
      "123\n"
     ],
     "output_type":"stream"
    }
   ],
   "metadata":{
    "datalore":{
     "node_id":"76YW86FDephLXb5xZHqJcL",
     "type":"CODE",
     "hide_input_from_viewers":false,
     "hide_output_from_viewers":false,
     "report_properties":{
      "rowId":"7r4c5rIfpGkzE8vodE1xlo",
      "relativeY":0
     }
    }
   }
  },
  {
   "cell_type":"code",
   "source":[
    "slider_1 = 5"
   ],
   "execution_count":2,
   "outputs":[],
   "metadata":{
    "datalore":{
     "node_id":"uvdYtuNslWlrqEc1TkVnFB",
     "type":"CONTROL",
     "hide_input_from_viewers":false,
     "hide_output_from_viewers":false,
     "report_properties":{
      "rowId":"gQDSM0z0pmvOHUFkwKBRs5",
      "x":0,
      "relativeY":0,
      "width":0.5
     },
     "controls_state":[
      {
       "type":"SLIDER",
       "label":"Slider 1",
       "variable":"slider_1",
       "value":"5",
       "min":"0",
       "max":"10",
       "step":"1",
       "minExpression":"0",
       "maxExpression":"10",
       "stepExpression":"1"
      }
     ]
    }
   }
  },
  {
   "cell_type":"code",
   "source":[
    "slider_1"
   ],
   "execution_count":3,
   "outputs":[
    {
     "data":{
      "text\/plain":[
       "5"
      ]
     },
     "metadata":{},
     "output_type":"display_data"
    }
   ],
   "metadata":{
    "datalore":{
     "node_id":"6oVETYMGsiqO32ElLEshrS",
     "type":"CODE",
     "hide_input_from_viewers":false,
     "hide_output_from_viewers":false,
     "report_properties":{
      "rowId":"gQDSM0z0pmvOHUFkwKBRs5",
      "x":0.5,
      "relativeY":0,
      "width":0.5
     }
    }
   }
  },
  {
   "cell_type":"code",
   "source":[
    "import pandas as pd\n",
    "import numpy as np\n",
    "\n",
    "num_rows = 100\n",
    "num_col = 5 \n",
    "\n",
    "df = pd.DataFrame(np.random.randint(0,100,size=(num_rows, num_col)), columns=list('ABCDE'))\n",
    "\n",
    "df\n"
   ],
   "execution_count":3,
   "outputs":[
    {
     "data":{
      "text\/html":[
       "<div>\n",
       "<style scoped>\n",
       "    .dataframe tbody tr th:only-of-type {\n",
       "        vertical-align: middle;\n",
       "    }\n",
       "\n",
       "    .dataframe tbody tr th {\n",
       "        vertical-align: top;\n",
       "    }\n",
       "\n",
       "    .dataframe thead th {\n",
       "        text-align: right;\n",
       "    }\n",
       "<\/style>\n",
       "<table border=\"1\" class=\"dataframe\">\n",
       "  <thead>\n",
       "    <tr style=\"text-align: right;\">\n",
       "      <th><\/th>\n",
       "      <th>A<\/th>\n",
       "      <th>B<\/th>\n",
       "      <th>C<\/th>\n",
       "      <th>D<\/th>\n",
       "      <th>E<\/th>\n",
       "    <\/tr>\n",
       "  <\/thead>\n",
       "  <tbody>\n",
       "    <tr>\n",
       "      <th>0<\/th>\n",
       "      <td>85<\/td>\n",
       "      <td>77<\/td>\n",
       "      <td>74<\/td>\n",
       "      <td>98<\/td>\n",
       "      <td>34<\/td>\n",
       "    <\/tr>\n",
       "    <tr>\n",
       "      <th>1<\/th>\n",
       "      <td>45<\/td>\n",
       "      <td>18<\/td>\n",
       "      <td>12<\/td>\n",
       "      <td>0<\/td>\n",
       "      <td>64<\/td>\n",
       "    <\/tr>\n",
       "    <tr>\n",
       "      <th>2<\/th>\n",
       "      <td>47<\/td>\n",
       "      <td>22<\/td>\n",
       "      <td>24<\/td>\n",
       "      <td>56<\/td>\n",
       "      <td>41<\/td>\n",
       "    <\/tr>\n",
       "    <tr>\n",
       "      <th>3<\/th>\n",
       "      <td>46<\/td>\n",
       "      <td>10<\/td>\n",
       "      <td>77<\/td>\n",
       "      <td>3<\/td>\n",
       "      <td>16<\/td>\n",
       "    <\/tr>\n",
       "    <tr>\n",
       "      <th>4<\/th>\n",
       "      <td>3<\/td>\n",
       "      <td>71<\/td>\n",
       "      <td>68<\/td>\n",
       "      <td>78<\/td>\n",
       "      <td>54<\/td>\n",
       "    <\/tr>\n",
       "    <tr>\n",
       "      <th>...<\/th>\n",
       "      <td>...<\/td>\n",
       "      <td>...<\/td>\n",
       "      <td>...<\/td>\n",
       "      <td>...<\/td>\n",
       "      <td>...<\/td>\n",
       "    <\/tr>\n",
       "    <tr>\n",
       "      <th>95<\/th>\n",
       "      <td>46<\/td>\n",
       "      <td>3<\/td>\n",
       "      <td>38<\/td>\n",
       "      <td>91<\/td>\n",
       "      <td>70<\/td>\n",
       "    <\/tr>\n",
       "    <tr>\n",
       "      <th>96<\/th>\n",
       "      <td>10<\/td>\n",
       "      <td>40<\/td>\n",
       "      <td>5<\/td>\n",
       "      <td>45<\/td>\n",
       "      <td>21<\/td>\n",
       "    <\/tr>\n",
       "    <tr>\n",
       "      <th>97<\/th>\n",
       "      <td>95<\/td>\n",
       "      <td>8<\/td>\n",
       "      <td>53<\/td>\n",
       "      <td>43<\/td>\n",
       "      <td>81<\/td>\n",
       "    <\/tr>\n",
       "    <tr>\n",
       "      <th>98<\/th>\n",
       "      <td>26<\/td>\n",
       "      <td>85<\/td>\n",
       "      <td>3<\/td>\n",
       "      <td>76<\/td>\n",
       "      <td>7<\/td>\n",
       "    <\/tr>\n",
       "    <tr>\n",
       "      <th>99<\/th>\n",
       "      <td>16<\/td>\n",
       "      <td>12<\/td>\n",
       "      <td>73<\/td>\n",
       "      <td>88<\/td>\n",
       "      <td>43<\/td>\n",
       "    <\/tr>\n",
       "  <\/tbody>\n",
       "<\/table>\n",
       "<p>100 rows × 5 columns<\/p>\n",
       "<\/div>"
      ]
     },
     "metadata":{},
     "output_type":"display_data"
    }
   ],
   "metadata":{
    "datalore":{
     "node_id":"k7VdbLQnondY6ajnJ3HTix",
     "type":"CODE",
     "hide_input_from_viewers":true,
     "hide_output_from_viewers":true
    }
   }
  }
 ],
 "metadata":{
  "kernelspec":{
   "display_name":"Python",
   "language":"python",
   "name":"python"
  },
  "datalore":{
   "computation_mode":"JUPYTERT",
   "package_manager":"pips",
   "base_environment":"default",
   "packages":[],
   "report_row_ids":[
    "7r4c5rIfpGkzE8vodE1xlo",
    "gQDSM0z0pmvOHUFkwKBRs5"
   ],
   "version":3
  }
 },
 "nbformat":4,
 "nbformat_minor":4
}