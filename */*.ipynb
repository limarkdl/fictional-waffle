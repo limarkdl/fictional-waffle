{
  "cells": [
    {
      "cell_type": "code",
      "metadata": {},
      "source": [
        "print(\"Hello, world!\")"
      ],
      "outputs": [],
      "execution_count": null
    }
  ],
  "metadata": {
    "kernelspec": {
      "display_name": "Python 3",
      "language": "python",
      "name": "python3"
    "language_info": {
      "name": "python",
      "version": "3.9.0"
    }
  },
  "nbformat": 4,
  "nbformat_minor": 5
}